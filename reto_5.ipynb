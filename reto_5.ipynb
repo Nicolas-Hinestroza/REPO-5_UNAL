{
 "cells": [
  {
   "cell_type": "code",
   "execution_count": 20,
   "metadata": {},
   "outputs": [
    {
     "name": "stdout",
     "output_type": "stream",
     "text": [
      "4 QUE ES DEFINIDO COMO EL CARACTER \u0004: NO es una vocal minuscula\n"
     ]
    }
   ],
   "source": [
    "n = int(input(\"lngrese un numero: \")) # aqui al ingresar un numero el programa lo esta leyendo como n\n",
    "a = chr(n) # usamos la funcion chr para que el programa recibe a n como un número y devuelve su representación como caráctera\n",
    "v = 'a' or 'e' or 'i' or 'o' or 'u' # asignamos a v para que sean todas las vocales en minusculas\n",
    "if str(a) == str(v) : # si v (es decir las vocales en minusculas) y a(el numero que nosotros escribimos definido en un caracter)\n",
    "  print (str(n) + \" QUE ES DEFINIDO COMO EL CARACTER \" + chr(n) + \": es una vocal minuscula\")# si la funcion es verdadera entonces imprimimos la parte verdadera\n",
    "else:\n",
    "  print (str(n) + \" QUE ES DEFINIDO COMO EL CARACTER \" + chr(n) + \": NO es una vocal minuscula\")# si la funcion no es verdadera entonces imprimimos la parte falsa\n"
   ]
  },
  {
   "cell_type": "code",
   "execution_count": 5,
   "metadata": {},
   "outputs": [
    {
     "name": "stdout",
     "output_type": "stream",
     "text": [
      "A QUE ES DEFINIDO COMO EL NUMERO 65: Pertenece a un numero impar\n"
     ]
    }
   ],
   "source": [
    "letra = (input(\"ingrese una letra: \")) #aqui al ingresar una letra el programa lo esta leyendo como letra\n",
    "a = ord(letra) #usamos la funcion ord para que el programa reciba una letra y lo devuelve es su representación como letra.\n",
    "if a % 2 == 0: #si a(es decir la letra definida como numero) al dividirlo entre 2 y el residuo es 0 (este es el proceso para saber si un numero es par o impar)\n",
    "  print (str(letra) + \" QUE ES DEFINIDO COMO EL NUMERO \" + str(a) + \": Pertenece a un numero par\")# si la funcion es verdadera entonces imprimimos la parte verdadera\n",
    "else:\n",
    "  print (str(letra) + \" QUE ES DEFINIDO COMO EL NUMERO \" + str(a) + \": Pertenece a un numero impar\")# si la funcion no es verdadera entonces imprimimos la parte falsa\n"
   ]
  },
  {
   "cell_type": "code",
   "execution_count": 21,
   "metadata": {},
   "outputs": [
    {
     "name": "stdout",
     "output_type": "stream",
     "text": [
      "el caracter l no es un digito\n"
     ]
    }
   ],
   "source": [
    "n = (input(\"ingrese un caracter: \")) #aqui al ingresar una letra el programa lo esta leyendo como n\n",
    "a = ord(n)  #usamos la funcion ord para que el programa reciba un caracter y lo devuelve es su representación como un numero.\n",
    "digitos = \"0\" or \"1\" or \"2\" or \"3\" or \"4\" or \"5\" or \"6\" or \"7\" or \"8\" or \"9\" # le asignamos a la variable digitos todos los digitos\n",
    "if a == digitos: #si a(es decir la letra definida como numero) es igual a digitos\n",
    "   print (\"el caracter \" + str(n) + \" es un digito\") # si la funcion es verdadera entonces imprimimos la parte verdadera\n",
    "else:\n",
    "   print (\"el caracter \" + str(n) + \" no es un digito\") # si la funcion es falsa entonces imprimimos la parte falsa\n",
    "\n"
   ]
  },
  {
   "cell_type": "code",
   "execution_count": 27,
   "metadata": {},
   "outputs": [
    {
     "name": "stdout",
     "output_type": "stream",
     "text": [
      "el numero -4.0 es negativo\n"
     ]
    }
   ],
   "source": [
    "x = float(input(\"ingrese un numero real:\")) #aqui al ingresar un numero el programa lo esta leyendo como x\n",
    "if x < 0: #si x es menor que 0 pues\n",
    "    print (\"el numero \" + str(x) + \" es negativo\")# si la funcion es verdadera entonces imprimimos la parte verdadera\n",
    "elif x >= 0: #si x es mayor que 0 pues\n",
    "    print (\"el numero \" + str(x) + \" es positivo\")# si la funcion es una opcion entonces imprimimos la parte verdadera\n",
    "else: #si x es igual que 0 pues\n",
    "    print (\"el numero \" + str(x) + \" es el neutro para la suma\")# si la funcion es falsa entonces imprimimos la parte falsa"
   ]
  },
  {
   "cell_type": "code",
   "execution_count": 25,
   "metadata": {},
   "outputs": [
    {
     "name": "stdout",
     "output_type": "stream",
     "text": [
      "las cordenadas (6.0, -6.0) estan dentro del circulo con centro(3.0, -2.0) y con radio5.0\n"
     ]
    }
   ],
   "source": [
    "x = float(input(\"Ingrese las cordenadas X:\")) #aqui al ingresar un numero el programa lo esta leyendo como x\n",
    "y = float(input(\"Ingrese las cordenadas y:\")) #aqui al ingresar un numero el programa lo esta leyendo como y\n",
    "a = float(input(\"Ingrese las cordenadas a del centro:\")) #aqui al ingresar un numero el programa lo esta leyendo como a\n",
    "b = float(input(\"Ingrese las cordenadas b del centro:\")) #aqui al ingresar un numero el programa lo esta leyendo como b\n",
    "r = float(input(\"Ingrese el radio:\")) #aqui al ingresar un numero el programa lo esta leyendo como r\n",
    "if ((x - a)**2) + ((y - b)**2)<=r**2: # lo que se debe realizar es la ecuacion ordinaria de un circulo asi se pobra saber si las cordenadas que nos dan hacen parte del circulo\n",
    "    print (\"las cordenadas (\" + str(x) + \", \" + str(y) + \") estan dentro del circulo con centro (\" + str(a) + \", \" + str(b) +  \") el cual tiene de radio \" + str(r)) # si la funcion es una opcion entonces imprimimos la parte verdadera\n",
    "else:\n",
    "    print (\"las cordenadas (\" + str(x) + \", \" + str(y) + \") no estan dentro del circulo con centro (\" + str(a) + \", \" + str(b) +  \") el cual tiene de radio \" + str(r)) # si la funcion es falsa entonces imprimimos la parte falsa"
   ]
  },
  {
   "cell_type": "code",
   "execution_count": 29,
   "metadata": {},
   "outputs": [
    {
     "name": "stdout",
     "output_type": "stream",
     "text": [
      "con las cordenadas (60.0, 60.0, 60.0) se puede construir un triangulo.\n"
     ]
    }
   ],
   "source": [
    "a = float(input(\"ingrese la longitud a:\")) #aqui al ingresar un numero el programa lo esta leyendo como a\n",
    "b = float(input(\"ingrese la longitud b:\")) #aqui al ingresar un numero el programa lo esta leyendo como b\n",
    "c = float(input(\"ingrese la longitud c:\")) #aqui al ingresar un numero el programa lo esta leyendo como c\n",
    "if a > 0 and b > 0 and c > 0 and a + b > c and b + c > a and a + c > b: #para saber si con las lonquitudes se puede hacer un triangulo primero toca que todas las longuitudes sean mayores que 0 y tambien tienen que cumplir las desigualdades triangulares\n",
    "    print (\"con las cordenadas (\" + str(a) + \", \" + str(b) + \", \" + str(c) + \") se puede construir un triangulo.\") # si la funcion es una opcion entonces imprimimos la parte verdadera\n",
    "else:\n",
    "    print (\"con las cordenadas (\" + str(a) + \", \" + str(b) + \", \" + str(c) + \") no se puede construir un triangulo.\")  # si la funcion es falsa entonces imprimimos la parte falsa"
   ]
  }
 ],
 "metadata": {
  "kernelspec": {
   "display_name": "Python 3",
   "language": "python",
   "name": "python3"
  },
  "language_info": {
   "codemirror_mode": {
    "name": "ipython",
    "version": 3
   },
   "file_extension": ".py",
   "mimetype": "text/x-python",
   "name": "python",
   "nbconvert_exporter": "python",
   "pygments_lexer": "ipython3",
   "version": "3.11.2"
  },
  "orig_nbformat": 4
 },
 "nbformat": 4,
 "nbformat_minor": 2
}
